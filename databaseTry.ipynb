{
 "cells": [
  {
   "cell_type": "code",
   "execution_count": 6,
   "metadata": {},
   "outputs": [
    {
     "name": "stdout",
     "output_type": "stream",
     "text": [
      "('1', 'John Doe', datetime.date(1990, 1, 1), '1234567890', 'johndoe', 'password123', 'johndoe@example.com')\n"
     ]
    }
   ],
   "source": [
    "import pyodbc  \n",
    "\n",
    "#Azure db connection details\n",
    "server = 'bigbankserv.database.windows.net'  \n",
    "database = 'bigbankdata'  \n",
    "username = 'servadmin'  \n",
    "password = 'password123!'  \n",
    "\n",
    "conn = pyodbc.connect('DRIVER={ODBC Driver 17 for SQL Server};SERVER=' + server + ';DATABASE=' + database + ';UID=' + username + ';PWD=' + password)  \n",
    "\n",
    "cursor = conn.cursor()\n",
    "\n",
    "cursor.execute('SELECT * FROM person')  \n",
    "rows = cursor.fetchall()  \n",
    "for row in rows:  \n",
    "    print(row)  \n",
    "    \n",
    "cursor.close()  \n",
    "conn.close()"
   ]
  }
 ],
 "metadata": {
  "kernelspec": {
   "display_name": "Python 3",
   "language": "python",
   "name": "python3"
  },
  "language_info": {
   "codemirror_mode": {
    "name": "ipython",
    "version": 3
   },
   "file_extension": ".py",
   "mimetype": "text/x-python",
   "name": "python",
   "nbconvert_exporter": "python",
   "pygments_lexer": "ipython3",
   "version": "3.12.2"
  }
 },
 "nbformat": 4,
 "nbformat_minor": 2
}
